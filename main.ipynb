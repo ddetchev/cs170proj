{
 "cells": [
  {
   "cell_type": "code",
   "execution_count": 2,
   "metadata": {
    "scrolled": true
   },
   "outputs": [
    {
     "name": "stdout",
     "output_type": "stream",
     "text": [
      "Collecting networkx\n",
      "  Using cached networkx-2.8.8-py3-none-any.whl (2.0 MB)\n",
      "Installing collected packages: networkx\n",
      "Successfully installed networkx-2.8.8\n",
      "Note: you may need to restart the kernel to use updated packages.\n"
     ]
    },
    {
     "name": "stderr",
     "output_type": "stream",
     "text": [
      "\n",
      "[notice] A new release of pip available: 22.2.2 -> 22.3.1\n",
      "[notice] To update, run: C:\\Users\\krist\\AppData\\Local\\Microsoft\\WindowsApps\\PythonSoftwareFoundation.Python.3.10_qbz5n2kfra8p0\\python.exe -m pip install --upgrade pip\n"
     ]
    },
    {
     "name": "stdout",
     "output_type": "stream",
     "text": [
      "Note: you may need to restart the kernel to use updated packages.\n"
     ]
    },
    {
     "name": "stderr",
     "output_type": "stream",
     "text": [
      "  WARNING: The script f2py.exe is installed in 'C:\\Users\\krist\\AppData\\Local\\Packages\\PythonSoftwareFoundation.Python.3.10_qbz5n2kfra8p0\\LocalCache\\local-packages\\Python310\\Scripts' which is not on PATH.\n",
      "  Consider adding this directory to PATH or, if you prefer to suppress this warning, use --no-warn-script-location.\n",
      "\n",
      "[notice] A new release of pip available: 22.2.2 -> 22.3.1\n",
      "[notice] To update, run: C:\\Users\\krist\\AppData\\Local\\Microsoft\\WindowsApps\\PythonSoftwareFoundation.Python.3.10_qbz5n2kfra8p0\\python.exe -m pip install --upgrade pip\n"
     ]
    },
    {
     "name": "stdout",
     "output_type": "stream",
     "text": [
      "Collecting numpy\n",
      "  Downloading numpy-1.23.5-cp310-cp310-win_amd64.whl (14.6 MB)\n",
      "     --------------------------------------- 14.6/14.6 MB 12.8 MB/s eta 0:00:00\n",
      "Installing collected packages: numpy\n",
      "Successfully installed numpy-1.23.5\n",
      "Collecting tqdmNote: you may need to restart the kernel to use updated packages.\n",
      "\n",
      "  Using cached tqdm-4.64.1-py2.py3-none-any.whl (78 kB)\n",
      "Requirement already satisfied: colorama in c:\\users\\krist\\appdata\\local\\packages\\pythonsoftwarefoundation.python.3.10_qbz5n2kfra8p0\\localcache\\local-packages\\python310\\site-packages (from tqdm) (0.4.6)\n",
      "Installing collected packages: tqdm\n",
      "Successfully installed tqdm-4.64.1\n"
     ]
    },
    {
     "name": "stderr",
     "output_type": "stream",
     "text": [
      "  WARNING: The script tqdm.exe is installed in 'C:\\Users\\krist\\AppData\\Local\\Packages\\PythonSoftwareFoundation.Python.3.10_qbz5n2kfra8p0\\LocalCache\\local-packages\\Python310\\Scripts' which is not on PATH.\n",
      "  Consider adding this directory to PATH or, if you prefer to suppress this warning, use --no-warn-script-location.\n",
      "\n",
      "[notice] A new release of pip available: 22.2.2 -> 22.3.1\n",
      "[notice] To update, run: C:\\Users\\krist\\AppData\\Local\\Microsoft\\WindowsApps\\PythonSoftwareFoundation.Python.3.10_qbz5n2kfra8p0\\python.exe -m pip install --upgrade pip\n"
     ]
    },
    {
     "name": "stdout",
     "output_type": "stream",
     "text": [
      "Collecting matplotlib\n",
      "  Downloading matplotlib-3.6.2-cp310-cp310-win_amd64.whl (7.2 MB)\n",
      "     ---------------------------------------- 7.2/7.2 MB 8.4 MB/s eta 0:00:00\n",
      "Requirement already satisfied: numpy>=1.19 in c:\\users\\krist\\appdata\\local\\packages\\pythonsoftwarefoundation.python.3.10_qbz5n2kfra8p0\\localcache\\local-packages\\python310\\site-packages (from matplotlib) (1.23.5)\n",
      "Requirement already satisfied: pyparsing>=2.2.1 in c:\\users\\krist\\appdata\\local\\packages\\pythonsoftwarefoundation.python.3.10_qbz5n2kfra8p0\\localcache\\local-packages\\python310\\site-packages (from matplotlib) (3.0.9)\n",
      "Collecting fonttools>=4.22.0\n",
      "  Using cached fonttools-4.38.0-py3-none-any.whl (965 kB)\n",
      "Collecting cycler>=0.10\n",
      "  Using cached cycler-0.11.0-py3-none-any.whl (6.4 kB)\n",
      "Requirement already satisfied: packaging>=20.0 in c:\\users\\krist\\appdata\\local\\packages\\pythonsoftwarefoundation.python.3.10_qbz5n2kfra8p0\\localcache\\local-packages\\python310\\site-packages (from matplotlib) (21.3)\n",
      "Collecting pillow>=6.2.0\n",
      "  Downloading Pillow-9.3.0-cp310-cp310-win_amd64.whl (2.5 MB)\n",
      "     ---------------------------------------- 2.5/2.5 MB 14.3 MB/s eta 0:00:00\n",
      "Collecting contourpy>=1.0.1\n",
      "  Downloading contourpy-1.0.6-cp310-cp310-win_amd64.whl (163 kB)\n",
      "     -------------------------------------- 163.6/163.6 kB 4.9 MB/s eta 0:00:00\n",
      "Requirement already satisfied: python-dateutil>=2.7 in c:\\users\\krist\\appdata\\local\\packages\\pythonsoftwarefoundation.python.3.10_qbz5n2kfra8p0\\localcache\\local-packages\\python310\\site-packages (from matplotlib) (2.8.2)\n",
      "Collecting kiwisolver>=1.0.1\n",
      "  Downloading kiwisolver-1.4.4-cp310-cp310-win_amd64.whl (55 kB)\n",
      "     ---------------------------------------- 55.3/55.3 kB ? eta 0:00:00\n",
      "Requirement already satisfied: six>=1.5 in c:\\users\\krist\\appdata\\local\\packages\\pythonsoftwarefoundation.python.3.10_qbz5n2kfra8p0\\localcache\\local-packages\\python310\\site-packages (from python-dateutil>=2.7->matplotlib) (1.16.0)\n",
      "Installing collected packages: pillow, kiwisolver, fonttools, cycler, contourpy, matplotlib\n",
      "Successfully installed contourpy-1.0.6 cycler-0.11.0 fonttools-4.38.0 kiwisolver-1.4.4 matplotlib-3.6.2 pillow-9.3.0\n",
      "Note: you may need to restart the kernel to use updated packages.\n"
     ]
    },
    {
     "name": "stderr",
     "output_type": "stream",
     "text": [
      "  WARNING: The scripts fonttools.exe, pyftmerge.exe, pyftsubset.exe and ttx.exe are installed in 'C:\\Users\\krist\\AppData\\Local\\Packages\\PythonSoftwareFoundation.Python.3.10_qbz5n2kfra8p0\\LocalCache\\local-packages\\Python310\\Scripts' which is not on PATH.\n",
      "  Consider adding this directory to PATH or, if you prefer to suppress this warning, use --no-warn-script-location.\n",
      "\n",
      "[notice] A new release of pip available: 22.2.2 -> 22.3.1\n",
      "[notice] To update, run: C:\\Users\\krist\\AppData\\Local\\Microsoft\\WindowsApps\\PythonSoftwareFoundation.Python.3.10_qbz5n2kfra8p0\\python.exe -m pip install --upgrade pip\n"
     ]
    }
   ],
   "source": [
    "# Install packages\n",
    "%pip install networkx\n",
    "%pip install numpy\n",
    "%pip install tqdm\n",
    "%pip install matplotlib\n"
   ]
  },
  {
   "cell_type": "code",
   "execution_count": 1,
   "metadata": {},
   "outputs": [
    {
     "name": "stdout",
     "output_type": "stream",
     "text": [
      "Collecting jupyter-resource-usage\n",
      "  Downloading jupyter_resource_usage-0.6.4-py3-none-any.whl (45 kB)\n",
      "     ---------------------------------------- 46.0/46.0 kB 1.1 MB/s eta 0:00:00\n",
      "Requirement already satisfied: psutil~=5.6 in c:\\users\\krist\\anaconda3\\lib\\site-packages (from jupyter-resource-usage) (5.9.0)\n",
      "Requirement already satisfied: prometheus-client in c:\\users\\krist\\anaconda3\\lib\\site-packages (from jupyter-resource-usage) (0.14.1)\n",
      "Requirement already satisfied: jupyter-server~=1.0 in c:\\users\\krist\\anaconda3\\lib\\site-packages (from jupyter-resource-usage) (1.18.1)\n",
      "Requirement already satisfied: jinja2 in c:\\users\\krist\\anaconda3\\lib\\site-packages (from jupyter-server~=1.0->jupyter-resource-usage) (2.11.3)\n",
      "Requirement already satisfied: nbformat>=5.2.0 in c:\\users\\krist\\anaconda3\\lib\\site-packages (from jupyter-server~=1.0->jupyter-resource-usage) (5.5.0)\n",
      "Requirement already satisfied: websocket-client in c:\\users\\krist\\anaconda3\\lib\\site-packages (from jupyter-server~=1.0->jupyter-resource-usage) (0.58.0)\n",
      "Requirement already satisfied: jupyter-core>=4.7.0 in c:\\users\\krist\\anaconda3\\lib\\site-packages (from jupyter-server~=1.0->jupyter-resource-usage) (4.11.1)\n",
      "Requirement already satisfied: pywinpty in c:\\users\\krist\\anaconda3\\lib\\site-packages (from jupyter-server~=1.0->jupyter-resource-usage) (2.0.2)\n",
      "Requirement already satisfied: tornado>=6.1.0 in c:\\users\\krist\\anaconda3\\lib\\site-packages (from jupyter-server~=1.0->jupyter-resource-usage) (6.1)\n",
      "Requirement already satisfied: nbconvert>=6.4.4 in c:\\users\\krist\\anaconda3\\lib\\site-packages (from jupyter-server~=1.0->jupyter-resource-usage) (6.4.4)\n",
      "Requirement already satisfied: terminado>=0.8.3 in c:\\users\\krist\\anaconda3\\lib\\site-packages (from jupyter-server~=1.0->jupyter-resource-usage) (0.13.1)\n",
      "Requirement already satisfied: anyio<4,>=3.1.0 in c:\\users\\krist\\anaconda3\\lib\\site-packages (from jupyter-server~=1.0->jupyter-resource-usage) (3.5.0)\n",
      "Requirement already satisfied: argon2-cffi in c:\\users\\krist\\anaconda3\\lib\\site-packages (from jupyter-server~=1.0->jupyter-resource-usage) (21.3.0)\n",
      "Requirement already satisfied: jupyter-client>=6.1.12 in c:\\users\\krist\\anaconda3\\lib\\site-packages (from jupyter-server~=1.0->jupyter-resource-usage) (7.3.4)\n",
      "Requirement already satisfied: Send2Trash in c:\\users\\krist\\anaconda3\\lib\\site-packages (from jupyter-server~=1.0->jupyter-resource-usage) (1.8.0)\n",
      "Requirement already satisfied: traitlets>=5.1 in c:\\users\\krist\\anaconda3\\lib\\site-packages (from jupyter-server~=1.0->jupyter-resource-usage) (5.1.1)\n",
      "Requirement already satisfied: pyzmq>=17 in c:\\users\\krist\\anaconda3\\lib\\site-packages (from jupyter-server~=1.0->jupyter-resource-usage) (23.2.0)\n",
      "Requirement already satisfied: packaging in c:\\users\\krist\\anaconda3\\lib\\site-packages (from jupyter-server~=1.0->jupyter-resource-usage) (21.3)\n",
      "Requirement already satisfied: sniffio>=1.1 in c:\\users\\krist\\anaconda3\\lib\\site-packages (from anyio<4,>=3.1.0->jupyter-server~=1.0->jupyter-resource-usage) (1.2.0)\n",
      "Requirement already satisfied: idna>=2.8 in c:\\users\\krist\\anaconda3\\lib\\site-packages (from anyio<4,>=3.1.0->jupyter-server~=1.0->jupyter-resource-usage) (3.3)\n",
      "Requirement already satisfied: python-dateutil>=2.8.2 in c:\\users\\krist\\anaconda3\\lib\\site-packages (from jupyter-client>=6.1.12->jupyter-server~=1.0->jupyter-resource-usage) (2.8.2)\n",
      "Requirement already satisfied: entrypoints in c:\\users\\krist\\anaconda3\\lib\\site-packages (from jupyter-client>=6.1.12->jupyter-server~=1.0->jupyter-resource-usage) (0.4)\n",
      "Requirement already satisfied: nest-asyncio>=1.5.4 in c:\\users\\krist\\anaconda3\\lib\\site-packages (from jupyter-client>=6.1.12->jupyter-server~=1.0->jupyter-resource-usage) (1.5.5)\n",
      "Requirement already satisfied: pywin32>=1.0 in c:\\users\\krist\\anaconda3\\lib\\site-packages (from jupyter-core>=4.7.0->jupyter-server~=1.0->jupyter-resource-usage) (302)\n",
      "Requirement already satisfied: testpath in c:\\users\\krist\\anaconda3\\lib\\site-packages (from nbconvert>=6.4.4->jupyter-server~=1.0->jupyter-resource-usage) (0.6.0)\n",
      "Requirement already satisfied: nbclient<0.6.0,>=0.5.0 in c:\\users\\krist\\anaconda3\\lib\\site-packages (from nbconvert>=6.4.4->jupyter-server~=1.0->jupyter-resource-usage) (0.5.13)\n",
      "Requirement already satisfied: mistune<2,>=0.8.1 in c:\\users\\krist\\anaconda3\\lib\\site-packages (from nbconvert>=6.4.4->jupyter-server~=1.0->jupyter-resource-usage) (0.8.4)\n",
      "Requirement already satisfied: pandocfilters>=1.4.1 in c:\\users\\krist\\anaconda3\\lib\\site-packages (from nbconvert>=6.4.4->jupyter-server~=1.0->jupyter-resource-usage) (1.5.0)\n",
      "Requirement already satisfied: jupyterlab-pygments in c:\\users\\krist\\anaconda3\\lib\\site-packages (from nbconvert>=6.4.4->jupyter-server~=1.0->jupyter-resource-usage) (0.1.2)\n",
      "Requirement already satisfied: bleach in c:\\users\\krist\\anaconda3\\lib\\site-packages (from nbconvert>=6.4.4->jupyter-server~=1.0->jupyter-resource-usage) (4.1.0)\n",
      "Requirement already satisfied: beautifulsoup4 in c:\\users\\krist\\anaconda3\\lib\\site-packages (from nbconvert>=6.4.4->jupyter-server~=1.0->jupyter-resource-usage) (4.11.1)\n",
      "Requirement already satisfied: defusedxml in c:\\users\\krist\\anaconda3\\lib\\site-packages (from nbconvert>=6.4.4->jupyter-server~=1.0->jupyter-resource-usage) (0.7.1)\n",
      "Requirement already satisfied: pygments>=2.4.1 in c:\\users\\krist\\anaconda3\\lib\\site-packages (from nbconvert>=6.4.4->jupyter-server~=1.0->jupyter-resource-usage) (2.11.2)\n",
      "Requirement already satisfied: MarkupSafe>=0.23 in c:\\users\\krist\\anaconda3\\lib\\site-packages (from jinja2->jupyter-server~=1.0->jupyter-resource-usage) (2.0.1)\n",
      "Requirement already satisfied: jsonschema>=2.6 in c:\\users\\krist\\anaconda3\\lib\\site-packages (from nbformat>=5.2.0->jupyter-server~=1.0->jupyter-resource-usage) (4.16.0)\n",
      "Requirement already satisfied: fastjsonschema in c:\\users\\krist\\anaconda3\\lib\\site-packages (from nbformat>=5.2.0->jupyter-server~=1.0->jupyter-resource-usage) (2.16.2)\n",
      "Requirement already satisfied: argon2-cffi-bindings in c:\\users\\krist\\anaconda3\\lib\\site-packages (from argon2-cffi->jupyter-server~=1.0->jupyter-resource-usage) (21.2.0)\n",
      "Requirement already satisfied: pyparsing!=3.0.5,>=2.0.2 in c:\\users\\krist\\anaconda3\\lib\\site-packages (from packaging->jupyter-server~=1.0->jupyter-resource-usage) (3.0.9)\n",
      "Requirement already satisfied: six in c:\\users\\krist\\anaconda3\\lib\\site-packages (from websocket-client->jupyter-server~=1.0->jupyter-resource-usage) (1.16.0)\n",
      "Requirement already satisfied: pyrsistent!=0.17.0,!=0.17.1,!=0.17.2,>=0.14.0 in c:\\users\\krist\\anaconda3\\lib\\site-packages (from jsonschema>=2.6->nbformat>=5.2.0->jupyter-server~=1.0->jupyter-resource-usage) (0.18.0)\n",
      "Requirement already satisfied: attrs>=17.4.0 in c:\\users\\krist\\anaconda3\\lib\\site-packages (from jsonschema>=2.6->nbformat>=5.2.0->jupyter-server~=1.0->jupyter-resource-usage) (21.4.0)\n",
      "Requirement already satisfied: cffi>=1.0.1 in c:\\users\\krist\\anaconda3\\lib\\site-packages (from argon2-cffi-bindings->argon2-cffi->jupyter-server~=1.0->jupyter-resource-usage) (1.15.1)\n",
      "Requirement already satisfied: soupsieve>1.2 in c:\\users\\krist\\anaconda3\\lib\\site-packages (from beautifulsoup4->nbconvert>=6.4.4->jupyter-server~=1.0->jupyter-resource-usage) (2.3.1)\n",
      "Requirement already satisfied: webencodings in c:\\users\\krist\\anaconda3\\lib\\site-packages (from bleach->nbconvert>=6.4.4->jupyter-server~=1.0->jupyter-resource-usage) (0.5.1)\n",
      "Requirement already satisfied: pycparser in c:\\users\\krist\\anaconda3\\lib\\site-packages (from cffi>=1.0.1->argon2-cffi-bindings->argon2-cffi->jupyter-server~=1.0->jupyter-resource-usage) (2.21)\n",
      "Installing collected packages: jupyter-resource-usage\n",
      "Successfully installed jupyter-resource-usage-0.6.4\n",
      "Note: you may need to restart the kernel to use updated packages.\n"
     ]
    }
   ],
   "source": [
    "%pip install jupyter-resource-usage"
   ]
  },
  {
   "cell_type": "code",
   "execution_count": 1,
   "metadata": {},
   "outputs": [
    {
     "name": "stdout",
     "output_type": "stream",
     "text": [
      "Collecting package metadata (current_repodata.json): ...working... done\n",
      "Note: you may need to restart the kernel to use updated packages.\n",
      "\n",
      "Solving environment: ...working... done\n",
      "\n",
      "# All requested packages already installed.\n",
      "\n",
      "Retrieving notices: ...working... done\n"
     ]
    }
   ],
   "source": [
    "# %conda install metis\n",
    "# %pip install metis\n",
    "%conda install -c conda-forge networkx-metis"
   ]
  },
  {
   "cell_type": "code",
   "execution_count": 31,
   "metadata": {},
   "outputs": [
    {
     "name": "stdout",
     "output_type": "stream",
     "text": [
      "appdirs==1.4.4\n",
      "arcgis==2.0.1\n",
      "asn1crypto @ file:///tmp/build/80754af9/asn1crypto_1596577642040/work\n",
      "atomicwrites==1.4.0\n",
      "attrs @ file:///opt/conda/conda-bld/attrs_1642510447205/work\n",
      "azure-core @ file:///C:/apps/conda/conda-bld/azure-core_1615482738248/work\n",
      "azure-storage-blob @ file:///C:/apps/conda/conda-bld/azure-storage-blob_1615483038755/work\n",
      "backcall @ file:///home/ktietz/src/ci/backcall_1611930011877/work\n",
      "black @ file:///C:/apps/conda/conda-bld/black_1647984216741/work\n",
      "bleach @ file:///opt/conda/conda-bld/bleach_1641577558959/work\n",
      "blinker==1.4\n",
      "Bottleneck @ file:///C:/ci/bottleneck_1648010904582/work\n",
      "brotlipy==0.7.0\n",
      "cached-property @ file:///tmp/build/80754af9/cached-property_1600785575025/work\n",
      "cachetools @ file:///tmp/build/80754af9/cachetools_1619597386817/work\n",
      "certifi==2021.10.8\n",
      "cffi @ file:///C:/ci_310/cffi_1642682485096/work\n",
      "cftime @ file:///C:/apps/conda/conda-bld/cftime_1628801285239/work\n",
      "chardet @ file:///C:/ci/chardet_1607706937985/work\n",
      "charset-normalizer @ file:///tmp/build/80754af9/charset-normalizer_1630003229654/work\n",
      "click @ file:///C:/ci/click_1646038595831/work\n",
      "colorama @ file:///tmp/build/80754af9/colorama_1607707115595/work\n",
      "cryptography @ file:///C:/conda/conda-bld/cryptography_1654270628009/work\n",
      "cycler @ file:///tmp/build/80754af9/cycler_1637851556182/work\n",
      "decorator @ file:///opt/conda/conda-bld/decorator_1643638310831/work\n",
      "defusedxml @ file:///tmp/build/80754af9/defusedxml_1615228127516/work\n",
      "despatch @ file:///C:/apps/conda/conda-bld/despatch_1641503801580/work\n",
      "entrypoints==0.3\n",
      "et-xmlfile==1.1.0\n",
      "fastcache @ file:///C:/ci/fastcache_1607571310570/work\n",
      "flake8 @ file:///opt/conda/conda-bld/flake8_1648129545443/work\n",
      "future==0.18.2\n",
      "geomet @ file:///C:/apps/conda/conda-bld/geomet_1629756238420/work\n",
      "h5py @ file:///P:/h5py\n",
      "html5lib @ file:///Users/ktietz/demo/mc3/conda-bld/html5lib_1629144453894/work\n",
      "idna @ file:///tmp/build/80754af9/idna_1637925883363/work\n",
      "importlib-metadata @ file:///C:/ci/importlib-metadata_1648562621412/work\n",
      "iniconfig @ file:///home/linux1/recipes/ci/iniconfig_1610983019677/work\n",
      "ipykernel @ file:///C:/ci/ipykernel_1607454116140/work/dist/ipykernel-5.3.4-py3-none-any.whl\n",
      "ipython @ file:///C:/apps/conda/conda-bld/ipython_1651763463361/work\n",
      "ipython-genutils @ file:///tmp/build/80754af9/ipython_genutils_1606773439826/work\n",
      "ipywidgets @ file:///C:/apps/conda/conda-bld/ipywidgets_1647978404554/work\n",
      "isodate @ file:///C:/apps/conda/conda-bld/isodate_1615438109370/work\n",
      "jdcal @ file:///Users/ktietz/demo/mc3/conda-bld/jdcal_1630584345063/work\n",
      "jedi @ file:///C:/apps/conda/conda-bld/jedi_1616689496604/work\n",
      "Jinja2 @ file:///opt/conda/conda-bld/jinja2_1647436528585/work\n",
      "json5 @ file:///C:/apps/conda/conda-bld/json5_1643224282617/work\n",
      "jsonschema @ file:///Users/ktietz/demo/mc3/conda-bld/jsonschema_1630511932244/work\n",
      "jupyter-client @ file:///C:/apps/conda/conda-bld/jupyter_client_1630367890063/work\n",
      "jupyter-console @ file:///C:/apps/conda/conda-bld/jupyter_console_1630372170687/work\n",
      "jupyter-contrib-core @ file:///C:/apps/conda/conda-bld/jupyter_contrib_core_1630358066328/work\n",
      "jupyter-contrib-nbextensions @ file:///C:/apps/conda/conda-bld/jupyter_contrib_nbextensions_1638560154602/work\n",
      "jupyter-core @ file:///C:/apps/conda/conda-bld/jupyter_core_1641847650198/work\n",
      "jupyter-highlight-selected-word @ file:///C:/apps/conda/conda-bld/jupyter_highlight_selected_word_1630691797560/work\n",
      "jupyter-latex-envs @ file:///C:/apps/conda/conda-bld/jupyter_latex_envs_1630691985725/work\n",
      "jupyter-nbextensions-configurator @ file:///C:/apps/conda/conda-bld/jupyter_nbextensions_configurator_1630692272116/work\n",
      "jupyterlab==2.2.10\n",
      "jupyterlab-server @ file:///tmp/build/80754af9/jupyterlab_server_1594164409481/work\n",
      "jupyterlab-widgets @ file:///tmp/build/80754af9/jupyterlab_widgets_1609884341231/work\n",
      "keyring @ file:///C:/apps/conda/conda-bld/keyring_1643918685795/work\n",
      "kiwisolver @ file:///C:/ci/kiwisolver_1644962577370/work\n",
      "lerc @ file:///C:/Users/par97462.AVWORLD/Anaconda3/conda-bld/lerc_1627896385528/work\n",
      "lxml @ file:///C:/ci/lxml_1646642862366/work\n",
      "MarkupSafe @ file:///C:/ci/markupsafe_1621528502553/work\n",
      "matplotlib @ file:///C:/conda/conda-bld/matplotlib-suite_1653499750675/work\n",
      "mccabe @ file:///opt/conda/conda-bld/mccabe_1644221741721/work\n",
      "metis==0.2a5\n",
      "mistune @ file:///C:/ci/mistune_1607359457024/work\n",
      "mkl-fft==1.3.0\n",
      "mkl-random @ file:///C:/apps/conda/conda-bld/mkl_random_1640898758376/work\n",
      "mkl-service==2.3.0\n",
      "mpmath==1.2.1\n",
      "msrest @ file:///C:/apps/conda/conda-bld/msrest_1615480661627/work\n",
      "mypy-extensions==0.4.3\n",
      "nbconvert @ file:///C:/apps/conda/conda-bld/nbconvert_1643312266283/work\n",
      "nbformat @ file:///opt/conda/conda-bld/nbformat_1629737324042/work\n",
      "netCDF4 @ file:///C:/apps/conda/conda-bld/netcdf4_1637271156021/work\n",
      "networkx @ file:///opt/conda/conda-bld/networkx_1647437648384/work\n",
      "nose @ file:///opt/conda/conda-bld/nose_1642704612149/work\n",
      "notebook @ file:///C:/apps/conda/conda-bld/notebook_1641689752200/work\n",
      "ntlm-auth==1.4.0\n",
      "numexpr @ file:///C:/apps/conda/conda-bld/numexpr_1648512662413/work\n",
      "numpy @ file:///C:/apps/conda/conda-bld/numpy_and_numpy_base_1641580115839/work\n",
      "oauthlib @ file:///C:/conda/conda-bld/oauthlib_1653752710464/work\n",
      "olefile @ file:///Users/ktietz/demo/mc3/conda-bld/olefile_1629805411829/work\n",
      "openpyxl @ file:///tmp/build/80754af9/openpyxl_1632777717936/work\n",
      "packaging @ file:///tmp/build/80754af9/packaging_1637314298585/work\n",
      "pandas @ file:///C:/ci/pandas_1641443174429/work\n",
      "pandocfilters @ file:///opt/conda/conda-bld/pandocfilters_1643405455980/work\n",
      "parso @ file:///opt/conda/conda-bld/parso_1641458642106/work\n",
      "pathspec @ file:///C:/apps/conda/conda-bld/pathspec_1647983158332/work\n",
      "pefile==2019.4.18\n",
      "pickleshare @ file:///tmp/build/80754af9/pickleshare_1606932040724/work\n",
      "Pillow @ file:///C:/conda/conda-bld/pillow_1653501602909/work\n",
      "platformdirs @ file:///tmp/build/80754af9/platformdirs_1638968569495/work\n",
      "pluggy @ file:///C:/ci/pluggy_1615976440052/work\n",
      "pro-notebook-integration @ file:///C:/apps/conda/conda-bld/pro_notebook_integration_1649344482117/work\n",
      "prometheus-client @ file:///C:/apps/conda/conda-bld/prometheus_client_1600199393947/work\n",
      "prompt-toolkit==3.0.5\n",
      "protobuf==3.19.1\n",
      "psutil @ file:///C:/ci/psutil_1612298199233/work\n",
      "py @ file:///opt/conda/conda-bld/py_1644396412707/work\n",
      "pycodestyle @ file:///tmp/build/80754af9/pycodestyle_1636635402688/work\n",
      "pycparser @ file:///tmp/build/80754af9/pycparser_1636541352034/work\n",
      "pyflakes @ file:///tmp/build/80754af9/pyflakes_1636644436481/work\n",
      "Pygments @ file:///C:/apps/conda/conda-bld/pygments_1628806784589/work\n",
      "PyJWT @ file:///C:/apps/conda/conda-bld/pyjwt_1654010749687/work\n",
      "pyodbc @ file:///C:/ci/pyodbc_1647426110990/work\n",
      "pyOpenSSL @ file:///opt/conda/conda-bld/pyopenssl_1643788558760/work\n",
      "pyparsing @ file:///tmp/build/80754af9/pyparsing_1635766073266/work\n",
      "PyPDF2 @ file:///C:/apps/conda/conda-bld/pypdf2_1648148203340/work\n",
      "pyrsistent @ file:///C:/ci/pyrsistent_1636093225342/work\n",
      "pyshp @ file:///tmp/build/80754af9/pyshp_1610641829514/work\n",
      "PySocks @ file:///C:/ci/pysocks_1605307512533/work\n",
      "pytest @ file:///C:/conda/conda-bld/pytest_1625189838448/work\n",
      "python-certifi-win32 @ file:///C:/conda/conda-bld/python-certifi-win32_1631036582332/work\n",
      "python-dateutil @ file:///tmp/build/80754af9/python-dateutil_1626374649649/work\n",
      "pytz==2022.1\n",
      "pywin32-ctypes==0.2.0\n",
      "pywinpty @ file:///C:/conda/conda-bld/pywinpty_1643666393226/work/target/wheels/pywinpty-2.0.1-cp39-none-win_amd64.whl\n",
      "PyYAML==6.0\n",
      "pyzmq @ file:///C:/apps/conda/conda-bld/pyzmq_1628724461133/work\n",
      "regex @ file:///C:/ci/regex_1648447888413/work\n",
      "requests @ file:///opt/conda/conda-bld/requests_1641824580448/work\n",
      "requests-kerberos==0.12.0\n",
      "requests-negotiate-sspi @ file:///C:/conda/conda-bld/requests-negotiate-sspi_1637357225975/work\n",
      "requests-ntlm==1.1.0\n",
      "requests-oauthlib==1.3.0\n",
      "requests-toolbelt @ file:///Users/ktietz/demo/mc3/conda-bld/requests-toolbelt_1629456163440/work\n",
      "saspy @ file:///C:/conda/conda-bld/saspy_1642032080388/work/saspy\n",
      "scipy @ file:///C:/ci/scipy_1616703440997/work\n",
      "Send2Trash @ file:///tmp/build/80754af9/send2trash_1632406701022/work\n",
      "simplegeneric==0.8.1\n",
      "six @ file:///opt/conda/conda-bld/six_1642687545475/work\n",
      "SQLAlchemy @ file:///C:/ci/sqlalchemy_1635955519902/work\n",
      "swat @ file:///C:/ProgramData/Anaconda3/conda-bld/swat_1628275287167/work\n",
      "sympy==1.9\n",
      "terminado @ file:///C:/ci/terminado_1644322780199/work\n",
      "testpath @ file:///C:/conda/conda-bld/testpath_1642830520225/work\n",
      "toml @ file:///tmp/build/80754af9/toml_1616166611790/work\n",
      "tomli @ file:///tmp/build/80754af9/tomli_1637314251069/work\n",
      "tornado @ file:///C:/ci/tornado_1606924294691/work\n",
      "tqdm==4.64.1\n",
      "traitlets @ file:///tmp/build/80754af9/traitlets_1636710298902/work\n",
      "typed-ast @ file:///C:/ci/typed-ast_1624953797214/work\n",
      "typing_extensions @ file:///opt/conda/conda-bld/typing_extensions_1647553014482/work\n",
      "ujson @ file:///C:/ci/ujson_1648044223886/work\n",
      "urllib3 @ file:///opt/conda/conda-bld/urllib3_1643638302206/work\n",
      "wcwidth @ file:///Users/ktietz/demo/mc3/conda-bld/wcwidth_1629357192024/work\n",
      "webencodings==0.5.1\n",
      "widgetsnbextension @ file:///C:/ci/widgetsnbextension_1644991377168/work\n",
      "win-inet-pton @ file:///C:/apps/conda/conda-bld/win_inet_pton_1643226188409/work\n",
      "wincertstore==0.2\n",
      "winkerberos @ file:///C:/conda/conda-bld/winkerberos_1643043616649/work\n",
      "wrapt @ file:///C:/ci/wrapt_1638434068867/work\n",
      "x86cpu==0.4\n",
      "xarray @ file:///opt/conda/conda-bld/xarray_1639166117697/work\n",
      "xlrd @ file:///tmp/build/80754af9/xlrd_1608072521494/work\n",
      "xlwt==1.3.0\n",
      "zipp @ file:///opt/conda/conda-bld/zipp_1641824620731/work\n"
     ]
    }
   ],
   "source": [
    "!pip freeze"
   ]
  },
  {
   "cell_type": "code",
   "execution_count": 2,
   "metadata": {},
   "outputs": [],
   "source": [
    "# The starter code is short and simple, take a look!\n",
    "from starter import *\n",
    "import random\n",
    "import importlib  \n",
    "#nxMetis = importlib.import_module(\"networkx-metis\")\n",
    "#import networkx-metis as mt\n",
    "import nxmetis as mt"
   ]
  },
  {
   "cell_type": "code",
   "execution_count": 3,
   "metadata": {},
   "outputs": [
    {
     "data": {
      "image/png": "[encoded data removed]",
      "text/plain": [
       "<Figure size 640x480 with 1 Axes>"
      ]
     },
     "metadata": {},
     "output_type": "display_data"
    },
    {
     "name": "stdout",
     "output_type": "stream",
     "text": [
      "1\n"
     ]
    }
   ],
   "source": [
    "G = nx.Graph()\n",
    "G.add_edge(0, 1, weight = 5)\n",
    "G.add_edge(0, 2, weight = 3)\n",
    "G.add_node(4)\n",
    "visualize(G)\n",
    "G.nodes[1]['team'] = 1\n",
    "print(G.nodes[1]['team'])"
   ]
  },
  {
   "cell_type": "code",
   "execution_count": 3,
   "metadata": {},
   "outputs": [
    {
     "name": "stdout",
     "output_type": "stream",
     "text": [
      "{1: 2, 3: 3, 5: 1, 7: 1}\n"
     ]
    }
   ],
   "source": [
    "rando_list = [1, 1, 3, 3, 3, 5, 7]\n",
    "dicter = {}\n",
    "for elem in rando_list:\n",
    "    if elem in dicter:\n",
    "        dicter[elem] += 1\n",
    "    else:\n",
    "        dicter[elem] = 1\n",
    "        \n",
    "print(dicter)"
   ]
  },
  {
   "cell_type": "markdown",
   "metadata": {},
   "source": [
    "# Phase 1 - Create Inputs"
   ]
  },
  {
   "cell_type": "code",
   "execution_count": 4,
   "metadata": {},
   "outputs": [],
   "source": [
    "# Add edges with G.add_edge(u, v, weight=w)\n",
    "# Idea: consider making the inputs with a solution in mind, \n",
    "# such that you know the solution when the outputs are released\n",
    "\n",
    "def small(G: nx.Graph):\n",
    "    # TODO add edges to complete the small input\n",
    "\n",
    "    #connect one vertex to every other with edge weight 1,000\n",
    "    for i in range (1, 100):\n",
    "        G.add_edge(0, i, weight = 1000)\n",
    "\n",
    "    #grouop A of 10 vertices sharing 45 edges of weight 1,000 inside group \n",
    "    for i in range(1, 11):\n",
    "        for j in range(i + 1, 11):\n",
    "            G.add_edge(i, j, weight = 1000)\n",
    "\n",
    "    #group B of 89 vertices sharing edges (11 each) of weight 400 inside group\n",
    "    for i in range(11, 100):\n",
    "        for j in range(i + 1, min(i + 12, 100)):\n",
    "            G.add_edge(i, j, weight = 450)\n",
    "        \n",
    "    \n",
    "    \n",
    "def medium(G: nx.Graph):\n",
    "    # Fully connected nodes 0 & 299:\n",
    "    for i in range (1, 300):\n",
    "        G.add_edge(0, i, weight=1000)\n",
    "\n",
    "    for i in range(1, 299):\n",
    "        G.add_edge(299, i, weight=1000)\n",
    "\n",
    "    # Cycle 1, 2, 3\n",
    "    nx.add_cycle(G, [1, 2, 3], weight=100)\n",
    "    for i in range(4, 296):\n",
    "        G.add_edge(1, i, weight=1000)\n",
    "        G.add_edge(2, i, weight=1000)\n",
    "        G.add_edge(3, i, weight=1000)\n",
    "\n",
    "    # Cycle 296, 297, 298\n",
    "    nx.add_cycle(G, [296, 297, 298], weight=1) \n",
    "    for i in range(2, 296):\n",
    "        G.add_edge(296, i, weight=1000)\n",
    "        G.add_edge(297, i, weight=1000)\n",
    "        G.add_edge(298, i, weight=1000)\n",
    "\n",
    "    # Connect both cycles\n",
    "    G.add_edge(296, 1, weight=1000)\n",
    "    G.add_edge(297, 1, weight=1000)\n",
    "    #\n",
    "    for i in range(4, 25):\n",
    "        for j in range(4, 155):\n",
    "            if (i != j):\n",
    "                G.add_edge(i, j, weight=random.randint(750, 1000))\n",
    "    for i in range(155, 206):\n",
    "        for j in range(155, 221):\n",
    "            if (i != j):\n",
    "                G.add_edge(i, j, weight=random.randint(300, 750))\n",
    "    for i in range(206, 277):\n",
    "        for j in range(206, 277):\n",
    "            if (i != j):\n",
    "                G.add_edge(i, j, weight=random.randint(500, 1000))\n",
    "    for i in range(277, 296):\n",
    "        for j in range(277, 296):\n",
    "            if (i != j):\n",
    "                G.add_edge(i, j, weight=random.randint(250, 750))\n",
    "    G.add_edge(150, 250 , weight=1000)\n",
    "    \n",
    "    \n",
    "def large(G: nx.Graph):\n",
    "    # TODO add edges to complete the large input\n",
    "    \n",
    "    # 2 vertices connected to 999 other vertices each\n",
    "    G.add_edge(0, 1, weight = 1000)\n",
    "    for elem in range(2, 1000):\n",
    "        G.add_edge(0, elem, weight = 1000)\n",
    "        G.add_edge(1, elem, weight = 1000)\n",
    "        \n",
    "        \n",
    "    # 100 vertices connected to 30 other vertices each (connected to the same 30 vertices)\n",
    "    for node in range(2, 102):\n",
    "        for x in range(102, 132):\n",
    "            G.add_edge(node, x, weight = 500)\n",
    "            \n",
    "            \n",
    "    count = -1\n",
    "    # 400 vertices connected to 10 other vertices each (not the same 10 vertices)\n",
    "    for node in range(132, 532):\n",
    "        count += 1\n",
    "        for x in range(532, 542):\n",
    "            G.add_edge(node, x + count, weight = 100)"
   ]
  },
  {
   "cell_type": "code",
   "execution_count": 5,
   "metadata": {},
   "outputs": [
    {
     "ename": "AssertionError",
     "evalue": "File already exists and overwrite set to False. Move file or set overwrite to True to proceed.",
     "output_type": "error",
     "traceback": [
      "\u001b[1;31m---------------------------------------------------------------------------\u001b[0m",
      "\u001b[1;31mAssertionError\u001b[0m                            Traceback (most recent call last)",
      "\u001b[1;32m~\\AppData\\Local\\Temp\\ipykernel_20080\\1392512852.py\u001b[0m in \u001b[0;36m<module>\u001b[1;34m\u001b[0m\n\u001b[0;32m      1\u001b[0m \u001b[0mG\u001b[0m \u001b[1;33m=\u001b[0m \u001b[0mnx\u001b[0m\u001b[1;33m.\u001b[0m\u001b[0mempty_graph\u001b[0m\u001b[1;33m(\u001b[0m\u001b[0mN_SMALL\u001b[0m\u001b[1;33m)\u001b[0m\u001b[1;33m\u001b[0m\u001b[1;33m\u001b[0m\u001b[0m\n\u001b[0;32m      2\u001b[0m \u001b[0msmall\u001b[0m\u001b[1;33m(\u001b[0m\u001b[0mG\u001b[0m\u001b[1;33m)\u001b[0m\u001b[1;33m\u001b[0m\u001b[1;33m\u001b[0m\u001b[0m\n\u001b[1;32m----> 3\u001b[1;33m \u001b[0mwrite_input\u001b[0m\u001b[1;33m(\u001b[0m\u001b[0mG\u001b[0m\u001b[1;33m,\u001b[0m \u001b[1;34m'small.in'\u001b[0m\u001b[1;33m)\u001b[0m\u001b[1;33m\u001b[0m\u001b[1;33m\u001b[0m\u001b[0m\n\u001b[0m\u001b[0;32m      4\u001b[0m \u001b[1;33m\u001b[0m\u001b[0m\n\u001b[0;32m      5\u001b[0m \u001b[0mG\u001b[0m \u001b[1;33m=\u001b[0m \u001b[0mnx\u001b[0m\u001b[1;33m.\u001b[0m\u001b[0mempty_graph\u001b[0m\u001b[1;33m(\u001b[0m\u001b[0mN_MEDIUM\u001b[0m\u001b[1;33m)\u001b[0m\u001b[1;33m\u001b[0m\u001b[1;33m\u001b[0m\u001b[0m\n",
      "\u001b[1;32m~\\Desktop\\project-main\\starter.py\u001b[0m in \u001b[0;36mwrite_input\u001b[1;34m(G, path, overwrite)\u001b[0m\n\u001b[0;32m     25\u001b[0m \u001b[1;33m\u001b[0m\u001b[0m\n\u001b[0;32m     26\u001b[0m \u001b[1;32mdef\u001b[0m \u001b[0mwrite_input\u001b[0m\u001b[1;33m(\u001b[0m\u001b[0mG\u001b[0m\u001b[1;33m:\u001b[0m \u001b[0mnx\u001b[0m\u001b[1;33m.\u001b[0m\u001b[0mGraph\u001b[0m\u001b[1;33m,\u001b[0m \u001b[0mpath\u001b[0m\u001b[1;33m:\u001b[0m \u001b[0mstr\u001b[0m\u001b[1;33m,\u001b[0m \u001b[0moverwrite\u001b[0m\u001b[1;33m:\u001b[0m \u001b[0mbool\u001b[0m\u001b[1;33m=\u001b[0m\u001b[1;32mFalse\u001b[0m\u001b[1;33m)\u001b[0m\u001b[1;33m:\u001b[0m\u001b[1;33m\u001b[0m\u001b[1;33m\u001b[0m\u001b[0m\n\u001b[1;32m---> 27\u001b[1;33m     \u001b[1;32massert\u001b[0m \u001b[0moverwrite\u001b[0m \u001b[1;32mor\u001b[0m \u001b[1;32mnot\u001b[0m \u001b[0mos\u001b[0m\u001b[1;33m.\u001b[0m\u001b[0mpath\u001b[0m\u001b[1;33m.\u001b[0m\u001b[0mexists\u001b[0m\u001b[1;33m(\u001b[0m\u001b[0mpath\u001b[0m\u001b[1;33m)\u001b[0m\u001b[1;33m,\u001b[0m\u001b[0;31m \u001b[0m\u001b[0;31m\\\u001b[0m\u001b[1;33m\u001b[0m\u001b[1;33m\u001b[0m\u001b[0m\n\u001b[0m\u001b[0;32m     28\u001b[0m         \u001b[1;34m'File already exists and overwrite set to False. Move file or set overwrite to True to proceed.'\u001b[0m\u001b[1;33m\u001b[0m\u001b[1;33m\u001b[0m\u001b[0m\n\u001b[0;32m     29\u001b[0m     \u001b[1;32mif\u001b[0m \u001b[0mvalidate_input\u001b[0m\u001b[1;33m(\u001b[0m\u001b[0mG\u001b[0m\u001b[1;33m)\u001b[0m\u001b[1;33m:\u001b[0m\u001b[1;33m\u001b[0m\u001b[1;33m\u001b[0m\u001b[0m\n",
      "\u001b[1;31mAssertionError\u001b[0m: File already exists and overwrite set to False. Move file or set overwrite to True to proceed."
     ]
    }
   ],
   "source": [
    "G = nx.empty_graph(N_SMALL)\n",
    "small(G)\n",
    "write_input(G, 'small.in')\n",
    "\n",
    "G = nx.empty_graph(N_MEDIUM)\n",
    "medium(G)\n",
    "write_input(G, 'medium.in')\n",
    "\n",
    "G = nx.empty_graph(N_LARGE)\n",
    "large(G)\n",
    "write_input(G, 'large.in')"
   ]
  },
  {
   "cell_type": "markdown",
   "metadata": {},
   "source": [
    "# Phase 2 - Implement your Solver"
   ]
  },
  {
   "cell_type": "code",
   "execution_count": 4,
   "metadata": {},
   "outputs": [],
   "source": [
    "def negate_edges(G: nx.graph):\n",
    "    # Negates all edges\n",
    "    for e in G.edges.data():\n",
    "        G[e[0]][e[1]]['weight'] *= -1\n",
    "        \n",
    "    # Adds edges for all disconnected nodes with weight zero     \n",
    "    for e in nx.non_edges(G):\n",
    "        G.add_edge(*e, weight=0)\n",
    "    \n",
    "    \n",
    "def solve2(G: nx.Graph):\n",
    "    curr_score = float('inf')\n",
    "    G_neg = G.copy()\n",
    "    negate_edges(G_neg)  \n",
    "    \n",
    "    # make graph with no 0 degree nodes\n",
    "#     remove_list = []\n",
    "#     degree_list = nx.degree(G)\n",
    "#     for elem in degree_list:\n",
    "#         if elem[1] == 0:\n",
    "#             G.remove_node(elem[0])\n",
    "#             remove_list.append(elem[0])\n",
    "    \n",
    "    \n",
    "    # run metis partitioning on this graph with 0 nodes\n",
    "    \n",
    "    for i in range(1, 5):\n",
    "        G_copy = G.copy()\n",
    "        inter_weight, parts = mt.partition(G_neg,i)\n",
    "        print(parts)\n",
    "    \n",
    "    \n",
    "    \n",
    "def solve(G: nx.Graph):\n",
    "    curr_score = float('inf')\n",
    "    G_neg = G.copy()\n",
    "    negate_edges(G_neg)  \n",
    "    \n",
    "    # make graph with no 0 degree nodes\n",
    "#     remove_list = []\n",
    "#     degree_list = nx.degree(G)\n",
    "#     for elem in degree_list:\n",
    "#         if elem[1] == 0:\n",
    "#             G.remove_node(elem[0])\n",
    "#             remove_list.append(elem[0])\n",
    "    \n",
    "    \n",
    "    # run metis partitioning on this graph with 0 nodes\n",
    "    \n",
    "    for i in range(1, G.number_of_nodes()):\n",
    "        G_copy = G.copy()\n",
    "        inter_weight, parts = mt.partition(G_neg,i)\n",
    "        print(parts)\n",
    "        \n",
    "        # Set Partitions\n",
    "#         for v in G.nodes:\n",
    "#             G_copy.nodes[v]['team'] = parts[v] + 1\n",
    "            \n",
    "        counter = 0\n",
    "        \n",
    "        for elem in parts:\n",
    "            counter += 1\n",
    "            for v in elem:\n",
    "                G_copy.nodes[v]['team'] = counter\n",
    "            \n",
    "        if (score(G_copy) < curr_score):\n",
    "            curr_score = score(G_copy)\n",
    "            G = G_copy\n",
    "        else:\n",
    "            break\n",
    "            \n",
    "    # balance team sizes out if uneven, first create team_dict of team numbers and their team sizes\n",
    "#     team_dict = {}\n",
    "#     for node in nx.nodes(G):\n",
    "#         if G.nodes[node]['team'] in team_dict:\n",
    "#             team_dict[G.nodes[node]['team']] += 1\n",
    "#         else:\n",
    "#             team_dict[G.nodes[node]['team']] = 1\n",
    "    \n",
    "    # we have a team_dict that maps each team number to the number of penguins in that team\n",
    "    \n",
    "#     for node in remove_list:\n",
    "#         G.add_node(node)\n",
    "        \n",
    "#         move_on = False\n",
    "        \n",
    "#         for key1 in team_dict.keys():\n",
    "#             for key2 in team_dict.keys():\n",
    "#                 if key1 != key2 and not move_on:\n",
    "#                     if team_dict[key1] == team_dict[key2]:\n",
    "#                         continue\n",
    "#                     elif team_dict[key1] > team_dict[key2]:\n",
    "#                         G.nodes[node]['team'] = team_dict[key2]\n",
    "#                         count += 1\n",
    "#                         move_on = True\n",
    "#                     else:\n",
    "#                         G.nodes[node]['team'] = team_dict[key1]\n",
    "#                         count += 1\n",
    "#                         move_on = True\n",
    "                        \n",
    "#         if G.nodes[node]['team'] is None:\n",
    "#             G.nodes[node]['team'] = random.choice(team_dict.keys())\n",
    "                        \n",
    "            \n",
    "    \n",
    "    \n",
    "    \n",
    "    # re-add edge weights of 0 to the degree 0 nodes\n",
    "#     for e in nx.non_edges(G):\n",
    "#         G.add_edge(*e, weight=0)\n",
    "    \n",
    "    print(score(G))"
   ]
  },
  {
   "cell_type": "code",
   "execution_count": 5,
   "metadata": {},
   "outputs": [
    {
     "name": "stdout",
     "output_type": "stream",
     "text": [
      "[[0, 1, 2, 3, 4, 5, 6, 7, 8, 9, 10, 11, 12, 13, 14, 15, 16, 17, 18, 19, 20, 21, 22, 23, 24, 25, 26, 27, 28, 29, 30, 31, 32, 33, 34, 35, 36, 37, 38, 39, 40, 41, 42, 43, 44, 45, 46, 47, 48, 49, 50, 51, 52, 53, 54, 55, 56, 57, 58, 59, 60, 61, 62, 63, 64, 65, 66, 67, 68, 69, 70, 71, 72, 73, 74, 75, 76, 77, 78, 79, 80, 81, 82, 83, 84, 85, 86, 87, 88, 89, 90, 91, 92, 93, 94, 95, 96, 97, 98, 99]]\n"
     ]
    },
    {
     "ename": "Exception",
     "evalue": "NetworkX-METIS not installed!",
     "output_type": "error",
     "traceback": [
      "\u001b[1;31m---------------------------------------------------------------------------\u001b[0m",
      "\u001b[1;31mException\u001b[0m                                 Traceback (most recent call last)",
      "Cell \u001b[1;32mIn[5], line 2\u001b[0m\n\u001b[0;32m      1\u001b[0m G \u001b[39m=\u001b[39m read_input(\u001b[39m'\u001b[39m\u001b[39msmall.in\u001b[39m\u001b[39m'\u001b[39m)\n\u001b[1;32m----> 2\u001b[0m solve2(G)\n",
      "Cell \u001b[1;32mIn[4], line 29\u001b[0m, in \u001b[0;36msolve2\u001b[1;34m(G)\u001b[0m\n\u001b[0;32m     27\u001b[0m \u001b[39mfor\u001b[39;00m i \u001b[39min\u001b[39;00m \u001b[39mrange\u001b[39m(\u001b[39m1\u001b[39m, \u001b[39m5\u001b[39m):\n\u001b[0;32m     28\u001b[0m     G_copy \u001b[39m=\u001b[39m G\u001b[39m.\u001b[39mcopy()\n\u001b[1;32m---> 29\u001b[0m     inter_weight, parts \u001b[39m=\u001b[39m mt\u001b[39m.\u001b[39;49mpartition(G_neg,i)\n\u001b[0;32m     30\u001b[0m     \u001b[39mprint\u001b[39m(parts)\n",
      "File \u001b[1;32m<class 'networkx.utils.decorators.argmap'> compilation 5:5\u001b[0m, in \u001b[0;36margmap_partition_1\u001b[1;34m(G, nparts, node_weight, node_size, edge_weight, tpwgts, ubvec, options, recursive)\u001b[0m\n\u001b[0;32m      3\u001b[0m \u001b[39mimport\u001b[39;00m \u001b[39mgzip\u001b[39;00m\n\u001b[0;32m      4\u001b[0m \u001b[39mimport\u001b[39;00m \u001b[39minspect\u001b[39;00m\n\u001b[1;32m----> 5\u001b[0m \u001b[39mimport\u001b[39;00m \u001b[39mitertools\u001b[39;00m\n\u001b[0;32m      6\u001b[0m \u001b[39mimport\u001b[39;00m \u001b[39mre\u001b[39;00m\n\u001b[0;32m      7\u001b[0m \u001b[39mfrom\u001b[39;00m \u001b[39mcollections\u001b[39;00m \u001b[39mimport\u001b[39;00m defaultdict\n",
      "File \u001b[1;32m~\\AppData\\Local\\Packages\\PythonSoftwareFoundation.Python.3.10_qbz5n2kfra8p0\\LocalCache\\local-packages\\Python310\\site-packages\\decorator.py:232\u001b[0m, in \u001b[0;36mdecorate.<locals>.fun\u001b[1;34m(*args, **kw)\u001b[0m\n\u001b[0;32m    230\u001b[0m \u001b[39mif\u001b[39;00m \u001b[39mnot\u001b[39;00m kwsyntax:\n\u001b[0;32m    231\u001b[0m     args, kw \u001b[39m=\u001b[39m fix(args, kw, sig)\n\u001b[1;32m--> 232\u001b[0m \u001b[39mreturn\u001b[39;00m caller(func, \u001b[39m*\u001b[39m(extras \u001b[39m+\u001b[39m args), \u001b[39m*\u001b[39m\u001b[39m*\u001b[39mkw)\n",
      "File \u001b[1;32mc:\\Users\\krist\\Desktop\\project-main\\nxmetis\\__init__.py:83\u001b[0m, in \u001b[0;36m_convert_exceptions.<locals>._convert_exceptions\u001b[1;34m(func, *args, **kwargs)\u001b[0m\n\u001b[0;32m     80\u001b[0m \u001b[39m@decorator\u001b[39m\u001b[39m.\u001b[39mdecorator\n\u001b[0;32m     81\u001b[0m \u001b[39mdef\u001b[39;00m \u001b[39m_convert_exceptions\u001b[39m(func, \u001b[39m*\u001b[39margs, \u001b[39m*\u001b[39m\u001b[39m*\u001b[39mkwargs):\n\u001b[0;32m     82\u001b[0m     \u001b[39mtry\u001b[39;00m:\n\u001b[1;32m---> 83\u001b[0m         \u001b[39mreturn\u001b[39;00m func(\u001b[39m*\u001b[39margs, \u001b[39m*\u001b[39m\u001b[39m*\u001b[39mkwargs)\n\u001b[0;32m     84\u001b[0m     \u001b[39mexcept\u001b[39;00m catch_types \u001b[39mas\u001b[39;00m e:\n\u001b[0;32m     85\u001b[0m         exc \u001b[39m=\u001b[39m e\n",
      "File \u001b[1;32mc:\\Users\\krist\\Desktop\\project-main\\nxmetis\\__init__.py:255\u001b[0m, in \u001b[0;36mpartition\u001b[1;34m(G, nparts, node_weight, node_size, edge_weight, tpwgts, ubvec, options, recursive)\u001b[0m\n\u001b[0;32m    252\u001b[0m     tpwgts \u001b[39m=\u001b[39m \u001b[39mlist\u001b[39m(itertools\u001b[39m.\u001b[39mchain\u001b[39m.\u001b[39mfrom_iterable(tpwgts))\n\u001b[0;32m    254\u001b[0m \u001b[39mwith\u001b[39;00m _zero_numbering(options):\n\u001b[1;32m--> 255\u001b[0m     objval, part \u001b[39m=\u001b[39m metis\u001b[39m.\u001b[39;49mpart_graph(xadj, adjncy, nparts, vwgt, vsize,\n\u001b[0;32m    256\u001b[0m                                      adjwgt, tpwgts, ubvec, options,\n\u001b[0;32m    257\u001b[0m                                      recursive)\n\u001b[0;32m    259\u001b[0m parts \u001b[39m=\u001b[39m [[] \u001b[39mfor\u001b[39;00m i \u001b[39min\u001b[39;00m \u001b[39mrange\u001b[39m(nparts)]\n\u001b[0;32m    260\u001b[0m \u001b[39mfor\u001b[39;00m u, i \u001b[39min\u001b[39;00m \u001b[39mzip\u001b[39m(G, part):\n",
      "File \u001b[1;32mc:\\Users\\krist\\Desktop\\project-main\\nxmetis\\metis.py:13\u001b[0m, in \u001b[0;36mpart_graph\u001b[1;34m(*args, **kwargs)\u001b[0m\n\u001b[0;32m     12\u001b[0m \u001b[39mdef\u001b[39;00m \u001b[39mpart_graph\u001b[39m(\u001b[39m*\u001b[39margs, \u001b[39m*\u001b[39m\u001b[39m*\u001b[39mkwargs):\n\u001b[1;32m---> 13\u001b[0m     \u001b[39mraise\u001b[39;00m \u001b[39mException\u001b[39;00m(\u001b[39m\"\u001b[39m\u001b[39mNetworkX-METIS not installed!\u001b[39m\u001b[39m\"\u001b[39m)\n",
      "\u001b[1;31mException\u001b[0m: NetworkX-METIS not installed!"
     ]
    }
   ],
   "source": [
    "G = read_input('small.in')\n",
    "solve2(G)"
   ]
  },
  {
   "cell_type": "code",
   "execution_count": 7,
   "metadata": {},
   "outputs": [
    {
     "ename": "",
     "evalue": "",
     "output_type": "error",
     "traceback": [
      "\u001b[1;31mCanceled future for execute_request message before replies were done"
     ]
    },
    {
     "ename": "",
     "evalue": "",
     "output_type": "error",
     "traceback": [
      "\u001b[1;31mThe Kernel crashed while executing code in the the current cell or a previous cell. Please review the code in the cell(s) to identify a possible cause of the failure. Click <a href='https://aka.ms/vscodeJupyterKernelCrash'>here</a> for more info. View Jupyter <a href='command:jupyter.viewOutput'>log</a> for further details."
     ]
    }
   ],
   "source": [
    "G = read_input('small.in')\n",
    "solve(G)\n",
    "validate_output(G)\n",
    "visualize(G)\n",
    "score(G)"
   ]
  },
  {
   "cell_type": "code",
   "execution_count": null,
   "metadata": {},
   "outputs": [],
   "source": [
    "run(solve, 'small.in', 'small.out')"
   ]
  },
  {
   "cell_type": "code",
   "execution_count": null,
   "metadata": {},
   "outputs": [],
   "source": [
    "run_all(solve, 'input', 'output')\n",
    "tar('output')"
   ]
  }
 ],
 "metadata": {
  "kernelspec": {
   "display_name": "Python 3.9.13 ('base')",
   "language": "python",
   "name": "python3"
  },
  "language_info": {
   "codemirror_mode": {
    "name": "ipython",
    "version": 3
   },
   "file_extension": ".py",
   "mimetype": "text/x-python",
   "name": "python",
   "nbconvert_exporter": "python",
   "pygments_lexer": "ipython3",
   "version": "3.9.13"
  },
  "vscode": {
   "interpreter": {
    "hash": "2cfeb398589d9b9b728542bb70759f1eb816d819c024386eb86eb230a74c018e"
   }
  }
 },
 "nbformat": 4,
 "nbformat_minor": 1
}
